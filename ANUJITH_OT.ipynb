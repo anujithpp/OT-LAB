{
  "nbformat": 4,
  "nbformat_minor": 0,
  "metadata": {
    "colab": {
      "provenance": []
    },
    "kernelspec": {
      "name": "python3",
      "display_name": "Python 3"
    },
    "language_info": {
      "name": "python"
    }
  },
  "cells": [
    {
      "cell_type": "code",
      "execution_count": 1,
      "metadata": {
        "colab": {
          "base_uri": "https://localhost:8080/"
        },
        "id": "5VXmCjspPkyQ",
        "outputId": "055374f1-e548-4bf2-83e9-3ba5244108a3"
      },
      "outputs": [
        {
          "output_type": "stream",
          "name": "stdout",
          "text": [
            "Optimal number of chocolate cakes (x): 100.0\n",
            "Optimal number of vanilla cakes (y): 300.0\n",
            "Maximum revenue: 1400.0\n"
          ]
        }
      ],
      "source": [
        "from scipy.optimize import linprog\n",
        "\n",
        "# Coefficients of the objective function (maximize revenue)\n",
        "c = [-5, -3]  # negative because linprog minimizes by default\n",
        "\n",
        "# Coefficients of the inequality constraints (LHS)\n",
        "A = [\n",
        "    [2, 1],  # 2x + y <= 500\n",
        "    [1, 1]   # x + y <= 400\n",
        "]\n",
        "\n",
        "# RHS of the inequality constraints\n",
        "b = [500, 400]\n",
        "\n",
        "# Coefficients of the lower bounds (demand constraints)\n",
        "x_bounds = (100, None)  # x >= 100\n",
        "y_bounds = (50, None)   # y >= 50\n",
        "\n",
        "# Solve the linear programming problem\n",
        "result = linprog(c, A_ub=A, b_ub=b, bounds=[x_bounds, y_bounds], method='highs')\n",
        "\n",
        "# Output the result\n",
        "print(\"Optimal number of chocolate cakes (x):\", result.x[0])\n",
        "print(\"Optimal number of vanilla cakes (y):\", result.x[1])\n",
        "print(\"Maximum revenue:\", -result.fun)"
      ]
    },
    {
      "cell_type": "code",
      "source": [
        "def knapsack(weights, values, capacity):\n",
        "    n = len(weights)  # number of items\n",
        "    # Create a DP table with (n+1) rows and (capacity+1) columns\n",
        "    dp = [[0] * (capacity + 1) for _ in range(n + 1)]\n",
        "\n",
        "    # Build the DP table\n",
        "    for i in range(1, n + 1):\n",
        "        for w in range(1, capacity + 1):\n",
        "            if weights[i - 1] <= w:  # if the item can be included\n",
        "                # Max of not including or including the item\n",
        "                dp[i][w] = max(dp[i - 1][w], dp[i - 1][w - weights[i - 1]] + values[i - 1])\n",
        "            else:\n",
        "                dp[i][w] = dp[i - 1][w]\n",
        "\n",
        "    # The bottom-right cell contains the maximum value we can get\n",
        "    return dp[n][capacity]\n",
        "\n",
        "# Example usage\n",
        "weights = [2, 3, 4, 5]  # Weights of the items\n",
        "values = [3, 4, 5, 6]   # Values of the items\n",
        "capacity = 5            # Capacity of the knapsack\n",
        "\n",
        "max_value = knapsack(weights, values, capacity)\n",
        "print(f\"Maximum value that can be obtained: {max_value}\")"
      ],
      "metadata": {
        "colab": {
          "base_uri": "https://localhost:8080/"
        },
        "id": "VjqY9ybIQTwz",
        "outputId": "373d129d-7db5-4f5c-bf16-0d25dfc661df"
      },
      "execution_count": 2,
      "outputs": [
        {
          "output_type": "stream",
          "name": "stdout",
          "text": [
            "Maximum value that can be obtained: 7\n"
          ]
        }
      ]
    },
    {
      "cell_type": "code",
      "source": [
        "import numpy as np\n",
        "\n",
        "def simplex(c, A, b):\n",
        "\n",
        "    num_vars = len(c)\n",
        "    num_constraints = len(b)\n",
        "\n",
        "    tableau = np.zeros((num_constraints + 1, num_vars + num_constraints + 1))\n",
        "\n",
        "    for i in range(num_constraints):\n",
        "        tableau[i, :num_vars] = A[i]\n",
        "        tableau[i, num_vars + i] = 1\n",
        "        tableau[i, -1] = b[i]\n",
        "\n",
        "    tableau[-1, :num_vars] = -c\n",
        "\n",
        "    while np.any(tableau[-1, :-1] < 0):\n",
        "\n",
        "        pivot_col = np.argmin(tableau[-1, :-1])\n",
        "\n",
        "        ratios = tableau[:-1, -1] / tableau[:-1, pivot_col]\n",
        "        ratios[ratios < 0] = np.inf\n",
        "        pivot_row = np.argmin(ratios)\n",
        "\n",
        "        pivot_value = tableau[pivot_row, pivot_col]\n",
        "        tableau[pivot_row, :] /= pivot_value\n",
        "\n",
        "        for i in range(num_constraints + 1):\n",
        "            if i != pivot_row:\n",
        "                tableau[i, :] -= tableau[i, pivot_col] * tableau[pivot_row, :]\n",
        "\n",
        "    optimal_solution = tableau[:-1, -1]\n",
        "    max_value = tableau[-1, -1]\n",
        "\n",
        "    return optimal_solution, max_value\n",
        "\n",
        "c = np.array([2, 3, 1])\n",
        "\n",
        "A = np.array([\n",
        "    [1, 1, 1],\n",
        "    [1, 2, -1]\n",
        "])\n",
        "\n",
        "b = np.array([4, 2])\n",
        "\n",
        "optimal_solution, max_value = simplex(c, A, b)\n",
        "\n",
        "print(\"Optimal solution (u1, u2, u3):\", optimal_solution)\n",
        "print(\"Maximum profit:\", max_value)"
      ],
      "metadata": {
        "colab": {
          "base_uri": "https://localhost:8080/"
        },
        "id": "jB1rAVXZQX9N",
        "outputId": "a32032ed-2d59-4231-ff6f-e6f39a4365b8"
      },
      "execution_count": 3,
      "outputs": [
        {
          "output_type": "stream",
          "name": "stdout",
          "text": [
            "Optimal solution (u1, u2, u3): [2. 2.]\n",
            "Maximum profit: 8.0\n"
          ]
        }
      ]
    },
    {
      "cell_type": "code",
      "source": [
        "from scipy.optimize import linprog\n",
        "\n",
        "# Coefficients of the objective function (profit)\n",
        "c = [-200, -150]  # Negating to convert maximization to minimization\n",
        "\n",
        "# Coefficients of the inequality constraints (Ax <= b)\n",
        "A = [\n",
        "    [1, 1],         # x + y <= 60 (Total land constraint)\n",
        "    [20, 10],       # 20x + 10y <= 1200 (Fertilizer constraint)\n",
        "    [10, 15],       # 10x + 15y <= 600 (Insecticide constraint)\n",
        "]\n",
        "\n",
        "# Right-hand side of the constraints\n",
        "b = [60, 1200, 600]\n",
        "\n",
        "# Bounds for x and y (Non-negativity and minimum acres constraints)\n",
        "x_bounds = (20, None)  # At least 20 acres of wheat\n",
        "y_bounds = (10, None)  # At least 10 acres of barley\n",
        "\n",
        "# Solve the LP problem\n",
        "result = linprog(c, A_ub=A, b_ub=b, bounds=[x_bounds, y_bounds], method='highs')\n",
        "\n",
        "# Output the results\n",
        "if result.success:\n",
        "    x_opt = result.x[0]  # Optimal number of acres of wheat\n",
        "    y_opt = result.x[1]  # Optimal number of acres of barley\n",
        "    max_profit = -result.fun  # Convert back to the actual profit (negated in the objective)\n",
        "\n",
        "    print(f\"Optimal number of acres of wheat: {x_opt:.2f}\")\n",
        "    print(f\"Optimal number of acres of barley: {y_opt:.2f}\")\n",
        "    print(f\"Maximum profit: ${max_profit:.2f}\")\n",
        "else:\n",
        "    print(\"No solution found.\")"
      ],
      "metadata": {
        "colab": {
          "base_uri": "https://localhost:8080/"
        },
        "id": "RMIy2TpeQcUU",
        "outputId": "0057080a-e74b-4805-d685-ace3d83c8080"
      },
      "execution_count": 4,
      "outputs": [
        {
          "output_type": "stream",
          "name": "stdout",
          "text": [
            "Optimal number of acres of wheat: 45.00\n",
            "Optimal number of acres of barley: 10.00\n",
            "Maximum profit: $10500.00\n"
          ]
        }
      ]
    },
    {
      "cell_type": "code",
      "source": [
        "from scipy.optimize import linprog\n",
        "\n",
        "# Coefficients of the objective function (profit)\n",
        "c = [-20, -30]  # Negating to convert maximization to minimization\n",
        "\n",
        "# Coefficients of the inequality constraints (Ax <= b)\n",
        "A = [\n",
        "    [1, 5],  # x + 5y <= 125 (Wood constraint)\n",
        "    [3, 1],  # 3x + y <= 80 (Metal constraint)\n",
        "]\n",
        "\n",
        "# Right-hand side of the constraints\n",
        "b = [125, 80]\n",
        "\n",
        "# Bounds for x and y (non-negativity constraint)\n",
        "x_bounds = (0, None)\n",
        "y_bounds = (0, None)\n",
        "\n",
        "# Solve the LP problem\n",
        "result = linprog(c, A_ub=A, b_ub=b, bounds=[x_bounds, y_bounds], method='highs')\n",
        "\n",
        "# Output the results\n",
        "if result.success:\n",
        "    x_opt = result.x[0]  # Optimal number of chairs\n",
        "    y_opt = result.x[1]  # Optimal number of tables\n",
        "    max_profit = -result.fun  # Convert back to the actual profit (negated in the objective)\n",
        "\n",
        "    print(f\"Optimal number of chairs: {int(x_opt)}\")\n",
        "    print(f\"Optimal number of tables: {int(y_opt)}\")\n",
        "    print(f\"Maximum profit: ${max_profit:.2f}\")\n",
        "else:\n",
        "    print(\"No solution found.\")"
      ],
      "metadata": {
        "colab": {
          "base_uri": "https://localhost:8080/"
        },
        "id": "q7sUVsvKQgGs",
        "outputId": "f1276298-d222-429a-e49b-deb7f776f2ba"
      },
      "execution_count": 5,
      "outputs": [
        {
          "output_type": "stream",
          "name": "stdout",
          "text": [
            "Optimal number of chairs: 19\n",
            "Optimal number of tables: 21\n",
            "Maximum profit: $1025.00\n"
          ]
        }
      ]
    },
    {
      "cell_type": "code",
      "source": [
        "import numpy as np\n",
        "from scipy.optimize import linear_sum_assignment\n",
        "\n",
        "def hungarian_algorithm(cost_matrix):\n",
        "    row_ind, col_ind = linear_sum_assignment(cost_matrix)\n",
        "\n",
        "    total_cost = cost_matrix[row_ind, col_ind].sum()\n",
        "\n",
        "\n",
        "    assignment = list(zip(row_ind, col_ind))\n",
        "\n",
        "    return assignment, total_cost\n",
        "\n",
        "\n",
        "cost_matrix = np.array([\n",
        "    [9, 11, 14, 11, 7],\n",
        "    [6, 15, 13, 13, 10],\n",
        "    [12, 13, 6, 8, 8],\n",
        "    [11, 9, 10, 12, 9],\n",
        "    [7, 12, 14, 10, 14]\n",
        "])\n",
        "\n",
        "assignment, total_cost = hungarian_algorithm(cost_matrix)\n",
        "\n",
        "print(\"Optimal Assignment (Task -> Worker):\")\n",
        "for task, worker in assignment:\n",
        "    print(f\"Task {task} -> Worker {worker}\")\n",
        "\n",
        "print(f\"\\nTotal Cost of Assignment: {total_cost}\")"
      ],
      "metadata": {
        "colab": {
          "base_uri": "https://localhost:8080/"
        },
        "id": "jO17OVhuQpGu",
        "outputId": "7de10e4d-8d50-4c41-a1d8-c55be5b65b85"
      },
      "execution_count": 6,
      "outputs": [
        {
          "output_type": "stream",
          "name": "stdout",
          "text": [
            "Optimal Assignment (Task -> Worker):\n",
            "Task 0 -> Worker 4\n",
            "Task 1 -> Worker 0\n",
            "Task 2 -> Worker 2\n",
            "Task 3 -> Worker 1\n",
            "Task 4 -> Worker 3\n",
            "\n",
            "Total Cost of Assignment: 38\n"
          ]
        }
      ]
    },
    {
      "cell_type": "code",
      "source": [
        "import math\n",
        "\n",
        "def EOQ(A,B,C):\n",
        "    eoq=math.sqrt((2*A*B)/C)\n",
        "\n",
        "    return eoq\n",
        "\n",
        "a=float(input(\"Enter annual demand of the company:\"))\n",
        "b=float(input(\"Enter the ordering cost per order:\"))\n",
        "c=float(input(\"Enter the holding cost per year:\"))\n",
        "\n",
        "e=EOQ(a,b,c)\n",
        "print(\"The Economic Order Quantity of the company:\",e)"
      ],
      "metadata": {
        "colab": {
          "base_uri": "https://localhost:8080/"
        },
        "id": "g_Zt0lnhQsrD",
        "outputId": "e3509eb7-c25c-456e-8f8d-ca52af690b2d"
      },
      "execution_count": 7,
      "outputs": [
        {
          "output_type": "stream",
          "name": "stdout",
          "text": [
            "Enter annual demand of the company:1000\n",
            "Enter the ordering cost per order:5\n",
            "Enter the holding cost per year:2\n",
            "The Economic Order Quantity of the company: 70.71067811865476\n"
          ]
        }
      ]
    },
    {
      "cell_type": "code",
      "source": [
        "import math\n",
        "\n",
        "def EOQ(A,B,C):\n",
        "    eoq=math.sqrt((2*A*B)/C)\n",
        "\n",
        "    return eoq\n",
        "\n",
        "a=float(input(\"Enter annual demand:\"))\n",
        "b=float(input(\"Enter the ordering cost:\"))\n",
        "c=float(input(\"Enter the holding cost:\"))\n",
        "\n",
        "e=EOQ(a,b,c)\n",
        "print(\"The Economic Order Quantity:\",e)"
      ],
      "metadata": {
        "colab": {
          "base_uri": "https://localhost:8080/"
        },
        "id": "fneezNX7Qwx4",
        "outputId": "3f5a78d7-2bdc-4ccf-af7b-919155489920"
      },
      "execution_count": 8,
      "outputs": [
        {
          "output_type": "stream",
          "name": "stdout",
          "text": [
            "Enter annual demand:1000\n",
            "Enter the ordering cost:5\n",
            "Enter the holding cost:2\n",
            "The Economic Order Quantity: 70.71067811865476\n"
          ]
        }
      ]
    },
    {
      "cell_type": "code",
      "source": [
        "import numpy as np\n",
        "\n",
        "def vogel_approximation_method(supply, demand, costs):\n",
        "    # Convert costs to float to handle np.inf assignments\n",
        "    costs = costs.astype(float)\n",
        "    transportation_plan = np.zeros_like(costs)\n",
        "    total_cost = 0\n",
        "\n",
        "    # Keep track of remaining supply and demand\n",
        "    remaining_supply = supply.copy()\n",
        "    remaining_demand = demand.copy()\n",
        "\n",
        "    while np.sum(remaining_supply) > 0 and np.sum(remaining_demand) > 0:\n",
        "        # Calculate row and column penalties\n",
        "        row_penalties = []\n",
        "        col_penalties = []\n",
        "\n",
        "        # Calculate row penalties\n",
        "        for i in range(costs.shape[0]):\n",
        "            if remaining_supply[i] > 0:\n",
        "                row_cost = costs[i, :]\n",
        "                valid_cost = sorted([cost for cost in row_cost if cost != np.inf])\n",
        "                if len(valid_cost) > 1:\n",
        "                    row_penalties.append(valid_cost[1] - valid_cost[0])\n",
        "                else:\n",
        "                    row_penalties.append(0)\n",
        "            else:\n",
        "                row_penalties.append(-1)  # Mark as exhausted\n",
        "\n",
        "        # Calculate column penalties\n",
        "        for j in range(costs.shape[1]):\n",
        "            if remaining_demand[j] > 0:\n",
        "                col_cost = costs[:, j]\n",
        "                valid_cost = sorted([cost for cost in col_cost if cost != np.inf])\n",
        "                if len(valid_cost) > 1:\n",
        "                    col_penalties.append(valid_cost[1] - valid_cost[0])\n",
        "                else:\n",
        "                    col_penalties.append(0)\n",
        "            else:\n",
        "                col_penalties.append(-1)  # Mark as exhausted\n",
        "\n",
        "        # Determine whether to consider row or column penalty\n",
        "        max_row_penalty = max([penalty for penalty in row_penalties if penalty >= 0], default=-1)\n",
        "        max_col_penalty = max([penalty for penalty in col_penalties if penalty >= 0], default=-1)\n",
        "\n",
        "        if max_row_penalty >= max_col_penalty:\n",
        "            row_idx = row_penalties.index(max_row_penalty)\n",
        "            col_idx = np.argmin(costs[row_idx, :])  # Choose the lowest cost in the row\n",
        "        else:\n",
        "            col_idx = col_penalties.index(max_col_penalty)\n",
        "            row_idx = np.argmin(costs[:, col_idx])  # Choose the lowest cost in the column\n",
        "\n",
        "        # Allocate the supply and demand\n",
        "        allocated = min(remaining_supply[row_idx], remaining_demand[col_idx])\n",
        "        transportation_plan[row_idx, col_idx] = allocated\n",
        "        total_cost += allocated * costs[row_idx, col_idx]\n",
        "\n",
        "        # Update supply and demand\n",
        "        remaining_supply[row_idx] -= allocated\n",
        "        remaining_demand[col_idx] -= allocated\n",
        "\n",
        "        # Mark exhausted rows and columns as np.inf\n",
        "        if remaining_supply[row_idx] == 0:\n",
        "            costs[row_idx, :] = np.inf\n",
        "        if remaining_demand[col_idx] == 0:\n",
        "            costs[:, col_idx] = np.inf\n",
        "\n",
        "    return transportation_plan, total_cost\n",
        "\n",
        "# Example usage\n",
        "supply = np.array([300, 400, 500])\n",
        "demand = np.array([250, 350, 400, 200])\n",
        "costs = np.array([\n",
        "    [3, 1, 7, 4],\n",
        "    [2, 6, 5, 9],\n",
        "    [8, 3, 3, 2]\n",
        "])\n",
        "\n",
        "plan, cost = vogel_approximation_method(supply, demand, costs)\n",
        "print(\"Optimal Transportation Plan:\")\n",
        "print(plan)\n",
        "print(\"Total Transportation Cost:\", cost)"
      ],
      "metadata": {
        "colab": {
          "base_uri": "https://localhost:8080/"
        },
        "id": "ZSaV90ZCQ1C3",
        "outputId": "7239a5aa-623a-45b4-a00c-ff3d5891becf"
      },
      "execution_count": 9,
      "outputs": [
        {
          "output_type": "stream",
          "name": "stdout",
          "text": [
            "Optimal Transportation Plan:\n",
            "[[  0. 300.   0.   0.]\n",
            " [250.   0. 150.   0.]\n",
            " [  0.  50. 250. 200.]]\n",
            "Total Transportation Cost: 2850.0\n"
          ]
        }
      ]
    },
    {
      "cell_type": "code",
      "source": [
        "import sys\n",
        "from itertools import permutations\n",
        "\n",
        "def tsp():\n",
        "    print(\"Enter the number of cities:\")\n",
        "    n = int(input())\n",
        "    graph = {}\n",
        "    cities = []\n",
        "\n",
        "    print(\"Enter the city names (one per line):\")\n",
        "    for _ in range(n):\n",
        "        city = input().strip()\n",
        "        cities.append(city)\n",
        "        graph[city] = {}\n",
        "\n",
        "    print(\"Enter the distance matrix (row-wise, space-separated):\")\n",
        "    for i in range(n):\n",
        "        distances = list(map(int, input().split()))\n",
        "        for j in range(n):\n",
        "            graph[cities[i]][cities[j]] = distances[j]\n",
        "\n",
        "    print(\"Enter the starting city:\")\n",
        "    start = input().strip()\n",
        "\n",
        "    nodes = list(graph.keys())\n",
        "    nodes.remove(start)\n",
        "    min_path = None\n",
        "    min_cost = sys.maxsize\n",
        "\n",
        "    for perm in permutations(nodes):\n",
        "        current_cost = 0\n",
        "        current_node = start\n",
        "        for node in perm:\n",
        "            current_cost += graph[current_node][node]\n",
        "            current_node = node\n",
        "        current_cost += graph[current_node][start]\n",
        "\n",
        "        if current_cost < min_cost:\n",
        "            min_cost = current_cost\n",
        "            min_path = (start,) + perm + (start,)\n",
        "\n",
        "    print(\"\\nOptimal Path:\", \" -> \".join(min_path))\n",
        "    print(\"Minimum Cost:\", min_cost)\n",
        "\n",
        "tsp()"
      ],
      "metadata": {
        "colab": {
          "base_uri": "https://localhost:8080/"
        },
        "id": "SOhKhRxHREr4",
        "outputId": "220d1bf0-5c95-4ed9-8d35-b74627f18efc"
      },
      "execution_count": 12,
      "outputs": [
        {
          "output_type": "stream",
          "name": "stdout",
          "text": [
            "Enter the number of cities:\n",
            "3\n",
            "Enter the city names (one per line):\n",
            "a\n",
            "b\n",
            "c\n",
            "Enter the distance matrix (row-wise, space-separated):\n",
            "0 2 3\n",
            "1 0 2\n",
            "2 2 0\n",
            "Enter the starting city:\n",
            "a\n",
            "\n",
            "Optimal Path: a -> b -> c -> a\n",
            "Minimum Cost: 6\n"
          ]
        }
      ]
    }
  ]
}